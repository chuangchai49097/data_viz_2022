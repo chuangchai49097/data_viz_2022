{
  "nbformat": 4,
  "nbformat_minor": 0,
  "metadata": {
    "colab": {
      "name": "Basic Programming Concepts.ipynb",
      "provenance": [],
      "include_colab_link": true
    },
    "kernelspec": {
      "name": "python3",
      "display_name": "Python 3"
    },
    "language_info": {
      "name": "python"
    }
  },
  "cells": [
    {
      "cell_type": "markdown",
      "metadata": {
        "id": "view-in-github",
        "colab_type": "text"
      },
      "source": [
        "<a href=\"https://colab.research.google.com/github/chuangchai49097/data_viz_2022/blob/main/Basic_Programming_Concepts.ipynb\" target=\"_parent\"><img src=\"https://colab.research.google.com/assets/colab-badge.svg\" alt=\"Open In Colab\"/></a>"
      ]
    },
    {
      "cell_type": "markdown",
      "source": [
        "# Function $(f(x) = y)$"
      ],
      "metadata": {
        "id": "b9TlKl2ODwpK"
      }
    },
    {
      "cell_type": "markdown",
      "source": [
        "```python\n",
        "def function_name(index):\n",
        "    # do somthing with input_x to get output_y\n",
        "    return output_y\n",
        "```"
      ],
      "metadata": {
        "id": "d5vRCpIEEIcE"
      }
    },
    {
      "cell_type": "markdown",
      "source": [
        "$f_1(x)=x^2+75$"
      ],
      "metadata": {
        "id": "ALwnbDU5FxO9"
      }
    },
    {
      "cell_type": "code",
      "execution_count": null,
      "metadata": {
        "id": "T8bVae1_DliQ"
      },
      "outputs": [],
      "source": [
        "def function_f1(x):\n",
        "    a = x**2\n",
        "    y = a + 75\n",
        "    return y "
      ]
    },
    {
      "cell_type": "code",
      "source": [
        "function_f1(3)"
      ],
      "metadata": {
        "colab": {
          "base_uri": "https://localhost:8080/"
        },
        "id": "GMyRAvTIGZx-",
        "outputId": "10fb070a-0a3c-45b2-8e2f-8ba3ae449366"
      },
      "execution_count": null,
      "outputs": [
        {
          "output_type": "execute_result",
          "data": {
            "text/plain": [
              "84"
            ]
          },
          "metadata": {},
          "execution_count": 6
        }
      ]
    },
    {
      "cell_type": "markdown",
      "source": [
        "function มีส่วนสำคัญทั้งหมด 4 ส่วน\n",
        "1. บอก python ว่าจะเขียนฟังก์ชั่น ชื่ออะไร `def function_name():` (ขาดไม่ได้)\n",
        "2. กำหนดตัวแปรที่จะเป็น input *Input* (ขาดได้)\n",
        "3. ส่วนประมวลผล do_somthing with *Input* to get *Output* (ขาดไม่ได้)\n",
        "4. ส่วน output `return` *Output* (ขาดได้)"
      ],
      "metadata": {
        "id": "SElMhAimHTyo"
      }
    },
    {
      "cell_type": "markdown",
      "source": [
        "## ตัวอย่าง function ที่มีส่วนประกอบครบ"
      ],
      "metadata": {
        "id": "9Al7xVlrKOhM"
      }
    },
    {
      "cell_type": "code",
      "source": [
        "def function_f1(x):\n",
        "    a = x**2\n",
        "    y = a + 75\n",
        "    return y "
      ],
      "metadata": {
        "id": "lVxUZslWKY4e"
      },
      "execution_count": null,
      "outputs": []
    },
    {
      "cell_type": "markdown",
      "source": [
        "## ตัวอย่าง function ที่ไม่มี input"
      ],
      "metadata": {
        "id": "tsHJk2Q3IhD1"
      }
    },
    {
      "cell_type": "code",
      "source": [
        "def pi_v():\n",
        "    y = 3.14159265359\n",
        "    return y"
      ],
      "metadata": {
        "id": "pxYWm2dBGnS_"
      },
      "execution_count": null,
      "outputs": []
    },
    {
      "cell_type": "code",
      "source": [
        "piv = pi_v()\n",
        "circle_area_r2 = piv*(2**2)\n",
        "print(circle_area_r2)"
      ],
      "metadata": {
        "colab": {
          "base_uri": "https://localhost:8080/"
        },
        "id": "bOsrFgorI0zc",
        "outputId": "fd83a104-fa37-412b-981a-63fd0c197b7c"
      },
      "execution_count": null,
      "outputs": [
        {
          "output_type": "stream",
          "name": "stdout",
          "text": [
            "12.56637061436\n"
          ]
        }
      ]
    },
    {
      "cell_type": "markdown",
      "source": [
        "## function ไม่มี process ไม่ได้"
      ],
      "metadata": {
        "id": "jyjO8KlaLMCE"
      }
    },
    {
      "cell_type": "markdown",
      "source": [
        "```python\n",
        "#function ไม่มี process เขียนไม่ได้ (เขียนได้แต่ error)\n",
        "def function_a():\n",
        "```\n",
        "\n",
        "\n",
        "\n",
        "```python\n",
        "#error ของ function ไม่มี process\n",
        "  File \"<ipython-input-8-07a0750214a8>\", line 1\n",
        "    def function_a():\n",
        "                     ^\n",
        "SyntaxError: unexpected EOF while parsing\n",
        "```\n",
        "\n"
      ],
      "metadata": {
        "id": "pta_0aUPLsqr"
      }
    },
    {
      "cell_type": "markdown",
      "source": [
        "## ตัวอย่าง function ที่ไม่มี output"
      ],
      "metadata": {
        "id": "m6O7RjF7Jj-2"
      }
    },
    {
      "cell_type": "code",
      "source": [
        "def print_name_id(name,id):\n",
        "    print(f'ชื่อ {name} รหัสประจำตัว {id}')"
      ],
      "metadata": {
        "id": "nqJ1AGU3JYmr"
      },
      "execution_count": null,
      "outputs": []
    },
    {
      "cell_type": "code",
      "source": [
        "print_name_id('จิตรกร','623021044-1')"
      ],
      "metadata": {
        "colab": {
          "base_uri": "https://localhost:8080/"
        },
        "id": "GN3XYBKzJ9ez",
        "outputId": "a964bbb0-ddf7-4315-f905-13e771dd5938"
      },
      "execution_count": null,
      "outputs": [
        {
          "output_type": "stream",
          "name": "stdout",
          "text": [
            "ชื่อ จิตรกร รหัสประจำตัว 623021044-1\n"
          ]
        }
      ]
    },
    {
      "cell_type": "markdown",
      "source": [
        "## ตัวอย่าง function `print`\n",
        "\n",
        " https://www.programiz.com/python-programming/methods/built-in/print"
      ],
      "metadata": {
        "id": "OgiFfx2LPAp0"
      }
    },
    {
      "cell_type": "code",
      "source": [
        "print('จิตรกร')\n",
        "print('623021044-1')"
      ],
      "metadata": {
        "colab": {
          "base_uri": "https://localhost:8080/"
        },
        "id": "yhC5sDQYPlrZ",
        "outputId": "bc65c8bd-6974-4d11-9101-e738e6c2923d"
      },
      "execution_count": null,
      "outputs": [
        {
          "output_type": "stream",
          "name": "stdout",
          "text": [
            "จิตรกร\n",
            "623021044-1\n"
          ]
        }
      ]
    },
    {
      "cell_type": "code",
      "source": [
        "print('จิตรกร',end='->')\n",
        "print('623021044-1')"
      ],
      "metadata": {
        "colab": {
          "base_uri": "https://localhost:8080/"
        },
        "id": "bZD2wawfKIdV",
        "outputId": "dc2b42f3-e902-4dc3-8390-c859c71e283b"
      },
      "execution_count": null,
      "outputs": [
        {
          "output_type": "stream",
          "name": "stdout",
          "text": [
            "จิตรกร->623021044-1\n"
          ]
        }
      ]
    },
    {
      "cell_type": "code",
      "source": [
        "print('จิตรกร','623021044-1')"
      ],
      "metadata": {
        "colab": {
          "base_uri": "https://localhost:8080/"
        },
        "id": "9ijS3U6-PduM",
        "outputId": "f1cc0e3c-89d2-4fa1-b90a-eaf145766039"
      },
      "execution_count": null,
      "outputs": [
        {
          "output_type": "stream",
          "name": "stdout",
          "text": [
            "จิตรกร 623021044-1\n"
          ]
        }
      ]
    },
    {
      "cell_type": "code",
      "source": [
        "print('จิตรกร','623021044-1',sep=' & ')"
      ],
      "metadata": {
        "colab": {
          "base_uri": "https://localhost:8080/"
        },
        "id": "_bYTb6_jPu_M",
        "outputId": "ab2e99ec-39d5-46b0-a856-e2e81d5216a4"
      },
      "execution_count": null,
      "outputs": [
        {
          "output_type": "stream",
          "name": "stdout",
          "text": [
            "จิตรกร & 623021044-1\n"
          ]
        }
      ]
    },
    {
      "cell_type": "markdown",
      "source": [
        "## input ของ function \n",
        "แบ่งออกเป็น 2 ชนิด (จำเป็นต้องใส่ กับ ไม่จำเป็นต้องใส่)"
      ],
      "metadata": {
        "id": "vTVJ-dQxQJJa"
      }
    },
    {
      "cell_type": "markdown",
      "source": [
        "ตัวอย่าง function `print_grade()` มี input 3 ตัว จำเป็นต้องใส่ 2 ตัว คือ name กับ id และไม่จำเป็นต้องใส่ 1 ตัว คือเกรด ซึ่งมีค่า default เป็น F"
      ],
      "metadata": {
        "id": "AApdlSkSRF2K"
      }
    },
    {
      "cell_type": "code",
      "source": [
        "def print_grade(name,id,grade = 'F'):\n",
        "    print(f'รหัสประจำตัว {id} ชื่อ {name}')\n",
        "    print(f'ได้เกรด {grade}')"
      ],
      "metadata": {
        "id": "DhTAuqOjQHQL"
      },
      "execution_count": null,
      "outputs": []
    },
    {
      "cell_type": "code",
      "source": [
        "print_grade('จิตรกร จันทะสี','623021044-1')"
      ],
      "metadata": {
        "colab": {
          "base_uri": "https://localhost:8080/"
        },
        "id": "5c4A1cZxREfV",
        "outputId": "339cd7a3-690c-40ad-c4ee-bc14664e86d1"
      },
      "execution_count": null,
      "outputs": [
        {
          "output_type": "stream",
          "name": "stdout",
          "text": [
            "รหัสประจำตัว 623021044-1 ชื่อ จิตรกร จันทะสี\n",
            "ได้เกรด F\n"
          ]
        }
      ]
    },
    {
      "cell_type": "code",
      "source": [
        "print_grade('จิตรกร จันทะสี','623021044-1','A')"
      ],
      "metadata": {
        "colab": {
          "base_uri": "https://localhost:8080/"
        },
        "id": "5j5EUcprR4tP",
        "outputId": "a4b69fe1-1ad3-4aaa-d15f-2bf0c2639c54"
      },
      "execution_count": null,
      "outputs": [
        {
          "output_type": "stream",
          "name": "stdout",
          "text": [
            "รหัสประจำตัว 623021044-1 ชื่อ จิตรกร จันทะสี\n",
            "ได้เกรด A\n"
          ]
        }
      ]
    },
    {
      "cell_type": "code",
      "source": [
        "print_grade(id='623021044-1',name='จิตรกร จันทะสี',grade='B+')"
      ],
      "metadata": {
        "colab": {
          "base_uri": "https://localhost:8080/"
        },
        "id": "a1zFBm60R-b_",
        "outputId": "1193015f-cdd2-4e5b-d668-64095bc0b016"
      },
      "execution_count": null,
      "outputs": [
        {
          "output_type": "stream",
          "name": "stdout",
          "text": [
            "รหัสประจำตัว 623021044-1 ชื่อ จิตรกร จันทะสี\n",
            "ได้เกรด B+\n"
          ]
        }
      ]
    },
    {
      "cell_type": "markdown",
      "source": [
        "# Looping (for)"
      ],
      "metadata": {
        "id": "t1bxlb7RTVxn"
      }
    },
    {
      "cell_type": "markdown",
      "source": [
        "```python\n",
        "# วนลูป member ในอะไรซักอย่าง\n",
        "for member in listEX:\n",
        "    do_somthing()\n",
        "```\n",
        "\n"
      ],
      "metadata": {
        "id": "6Ambn_EbTmjd"
      }
    },
    {
      "cell_type": "code",
      "source": [
        "for member in [1,2,3,4,5,6]:    # ให้ member วนลูปใน list แล้ว print ออกมา\n",
        "    print(member)"
      ],
      "metadata": {
        "id": "ps8I1S62SNtP",
        "outputId": "f1a06ffd-8318-4dfd-da60-fd96bf6c98f6",
        "colab": {
          "base_uri": "https://localhost:8080/"
        }
      },
      "execution_count": null,
      "outputs": [
        {
          "output_type": "stream",
          "name": "stdout",
          "text": [
            "1\n",
            "2\n",
            "3\n",
            "4\n",
            "5\n",
            "6\n"
          ]
        }
      ]
    },
    {
      "cell_type": "code",
      "source": [
        "def print_name(name):       # เขียน function ให้ print ชื่อที่ input เข้าไป \n",
        "    print(f'ฉันชื่อ {name}')"
      ],
      "metadata": {
        "id": "jOthvy1oUbhm"
      },
      "execution_count": null,
      "outputs": []
    },
    {
      "cell_type": "code",
      "source": [
        "for name in ['วัชราภรณ์','จุฑากาญจน์','ชลธิชา','ญาดา','กิตติคุณ']:  # ให้ name วนลูปใน list\n",
        "    N = name    # เอาตัวแปร N มารับค่าที่ name วนลูป\n",
        "    print_name(N)   # ใส่ตัวแปร N ลงใน function print_name"
      ],
      "metadata": {
        "id": "nTmUF8DQVGhw",
        "outputId": "a6293e3a-5971-4cc2-9443-6cf0c5bf0051",
        "colab": {
          "base_uri": "https://localhost:8080/"
        }
      },
      "execution_count": null,
      "outputs": [
        {
          "output_type": "stream",
          "name": "stdout",
          "text": [
            "ฉันชื่อ วัชราภรณ์\n",
            "ฉันชื่อ จุฑากาญจน์\n",
            "ฉันชื่อ ชลธิชา\n",
            "ฉันชื่อ ญาดา\n",
            "ฉันชื่อ กิตติคุณ\n"
          ]
        }
      ]
    },
    {
      "cell_type": "code",
      "source": [
        "list_name_id_grade = [['นางสาวเบญญาภา ระภูเขียว','623020527-6','B'],\n",
        "                      ['นางสาวทักษิณา ราชหุ่น','623021000-1','A'],\n",
        "                      ['นางสาวปลายฟ้า คำเพ็ง','623021005-1','C']]"
      ],
      "metadata": {
        "id": "PMixkk2DWXK6"
      },
      "execution_count": null,
      "outputs": []
    },
    {
      "cell_type": "code",
      "source": [
        "for each in list_name_id_grade:\n",
        "    name = each[0]\n",
        "    id = each[1]\n",
        "    grade = each[2]\n",
        "    print_grade(name,id,grade)\n",
        "    print('--------------')"
      ],
      "metadata": {
        "id": "SlgwpcCTXlS1",
        "outputId": "c59a8e04-58ad-41ca-fd84-d576f54b3982",
        "colab": {
          "base_uri": "https://localhost:8080/"
        }
      },
      "execution_count": null,
      "outputs": [
        {
          "output_type": "stream",
          "name": "stdout",
          "text": [
            "รหัสประจำตัว 623020527-6 ชื่อ นางสาวเบญญาภา ระภูเขียว\n",
            "ได้เกรด B\n",
            "--------------\n",
            "รหัสประจำตัว 623021000-1 ชื่อ นางสาวทักษิณา ราชหุ่น\n",
            "ได้เกรด A\n",
            "--------------\n",
            "รหัสประจำตัว 623021005-1 ชื่อ นางสาวปลายฟ้า คำเพ็ง\n",
            "ได้เกรด C\n",
            "--------------\n"
          ]
        }
      ]
    },
    {
      "cell_type": "markdown",
      "source": [
        "## ใช้ for loop เพิ่มสมาชิกใน list"
      ],
      "metadata": {
        "id": "LljFhCF6YYv8"
      }
    },
    {
      "cell_type": "code",
      "source": [
        "list_name = []\n",
        "list_id = []\n",
        "list_grade = []\n",
        "for each in list_name_id_grade:\n",
        "    list_name.append(each[0])       # เพิ่มสมาชิกเข้าใน list_name ด้วยการวนลูป each ใน list_name_id_grade เอาตัวที่ [0]\n",
        "    list_id.append(each[1])\n",
        "    list_grade.append(each[2])"
      ],
      "metadata": {
        "id": "j4RFKvtQYBuX"
      },
      "execution_count": null,
      "outputs": []
    },
    {
      "cell_type": "code",
      "source": [
        "list_name"
      ],
      "metadata": {
        "id": "aoGJxrEkZKwD",
        "outputId": "bd7735fe-3c38-4e9f-b440-189b7f03ad01",
        "colab": {
          "base_uri": "https://localhost:8080/"
        }
      },
      "execution_count": null,
      "outputs": [
        {
          "output_type": "execute_result",
          "data": {
            "text/plain": [
              "['นางสาวเบญญาภา ระภูเขียว', 'นางสาวทักษิณา ราชหุ่น', 'นางสาวปลายฟ้า คำเพ็ง']"
            ]
          },
          "metadata": {},
          "execution_count": 52
        }
      ]
    },
    {
      "cell_type": "markdown",
      "source": [
        "## การวนลูปด้วย range()"
      ],
      "metadata": {
        "id": "y8TSV8tfbhRm"
      }
    },
    {
      "cell_type": "code",
      "source": [
        "for i in range(100):    # วนลูปด้วยค่าซ้ำ\n",
        "    print('งง', end = ' ')"
      ],
      "metadata": {
        "id": "fWAUdevHZNbj",
        "outputId": "1394f9e2-9933-4f66-a1ad-fa180fd5c424",
        "colab": {
          "base_uri": "https://localhost:8080/"
        }
      },
      "execution_count": null,
      "outputs": [
        {
          "output_type": "stream",
          "name": "stdout",
          "text": [
            "งง งง งง งง งง งง งง งง งง งง งง งง งง งง งง งง งง งง งง งง งง งง งง งง งง งง งง งง งง งง งง งง งง งง งง งง งง งง งง งง งง งง งง งง งง งง งง งง งง งง งง งง งง งง งง งง งง งง งง งง งง งง งง งง งง งง งง งง งง งง งง งง งง งง งง งง งง งง งง งง งง งง งง งง งง งง งง งง งง งง งง งง งง งง งง งง งง งง งง งง "
          ]
        }
      ]
    },
    {
      "cell_type": "markdown",
      "source": [
        "## Loop ซ้อน Loop"
      ],
      "metadata": {
        "id": "rYHGqCiTcW_U"
      }
    },
    {
      "cell_type": "code",
      "source": [
        "for mem1 in range(2,5):     #[2,3,4]\n",
        "    print(f'now mem1 = {mem1}')\n",
        "    for mem2 in range(1,13):    #[1,2,3,4,5,6,7,8,9,10,11,12]\n",
        "        print(f'{mem1} x {mem2} = {mem1*mem2}')\n",
        "    print(f'end inner for mem1 = {mem1}')"
      ],
      "metadata": {
        "id": "Yz7WiYQXb4fN",
        "outputId": "7f074e75-b0bb-4066-b1b6-44341864de1e",
        "colab": {
          "base_uri": "https://localhost:8080/"
        }
      },
      "execution_count": null,
      "outputs": [
        {
          "output_type": "stream",
          "name": "stdout",
          "text": [
            "now mem1 = 2\n",
            "2 x 1 = 2\n",
            "2 x 2 = 4\n",
            "2 x 3 = 6\n",
            "2 x 4 = 8\n",
            "2 x 5 = 10\n",
            "2 x 6 = 12\n",
            "2 x 7 = 14\n",
            "2 x 8 = 16\n",
            "2 x 9 = 18\n",
            "2 x 10 = 20\n",
            "2 x 11 = 22\n",
            "2 x 12 = 24\n",
            "end inner for mem1 = 2\n",
            "now mem1 = 3\n",
            "3 x 1 = 3\n",
            "3 x 2 = 6\n",
            "3 x 3 = 9\n",
            "3 x 4 = 12\n",
            "3 x 5 = 15\n",
            "3 x 6 = 18\n",
            "3 x 7 = 21\n",
            "3 x 8 = 24\n",
            "3 x 9 = 27\n",
            "3 x 10 = 30\n",
            "3 x 11 = 33\n",
            "3 x 12 = 36\n",
            "end inner for mem1 = 3\n",
            "now mem1 = 4\n",
            "4 x 1 = 4\n",
            "4 x 2 = 8\n",
            "4 x 3 = 12\n",
            "4 x 4 = 16\n",
            "4 x 5 = 20\n",
            "4 x 6 = 24\n",
            "4 x 7 = 28\n",
            "4 x 8 = 32\n",
            "4 x 9 = 36\n",
            "4 x 10 = 40\n",
            "4 x 11 = 44\n",
            "4 x 12 = 48\n",
            "end inner for mem1 = 4\n"
          ]
        }
      ]
    },
    {
      "cell_type": "markdown",
      "source": [
        "## Loop in Function"
      ],
      "metadata": {
        "id": "BcF-Ndwsf92b"
      }
    },
    {
      "cell_type": "code",
      "source": [
        "def print_grade_loop(names,grades):    # function ที่มี input 2 ค่า\n",
        "    for n,g in zip(names,grades):    # วนลูป n,g ใน names,grades\n",
        "        print(f'{n} ได้เกรด {g}')"
      ],
      "metadata": {
        "id": "ZzYQSpWdf69q"
      },
      "execution_count": null,
      "outputs": []
    },
    {
      "cell_type": "code",
      "source": [
        "print_grade_loop(list_name,list_grade)"
      ],
      "metadata": {
        "id": "XFR7Oy9NguxL",
        "outputId": "2754c6f7-1b23-458f-9e20-7c5a52596f51",
        "colab": {
          "base_uri": "https://localhost:8080/"
        }
      },
      "execution_count": null,
      "outputs": [
        {
          "output_type": "stream",
          "name": "stdout",
          "text": [
            "นางสาวเบญญาภา ระภูเขียว ได้เกรด B\n",
            "นางสาวทักษิณา ราชหุ่น ได้เกรด A\n",
            "นางสาวปลายฟ้า คำเพ็ง ได้เกรด C\n"
          ]
        }
      ]
    },
    {
      "cell_type": "markdown",
      "source": [
        "# Condition Statement (if)"
      ],
      "metadata": {
        "id": "89-Pt36uh3nR"
      }
    },
    {
      "cell_type": "markdown",
      "source": [
        "```python\n",
        "if condition1:     \n",
        "    do_something()    # ถ้า condition1 เป็นจริง ทำ do_something()\n",
        "elif condition2:   \n",
        "    do_another_thing()    # ถ้า condition1 ไม่เป็นจริง แต่ condition2 เป็นจริง ทำ do_another_thing()\n",
        "else:\n",
        "    do_the_last_thing() # ถ้าไม่มี condition ไหนเป็นจริงเลย ทำ do_the_last_thing()\n",
        "```\n",
        "\n"
      ],
      "metadata": {
        "id": "EFrkOufNiGFS"
      }
    },
    {
      "cell_type": "code",
      "source": [
        "for n in list_name:\n",
        "    if len(n)>20:\n",
        "        print(f'{n} ได้เกรด A')\n",
        "    else:\n",
        "        print(f'{n} ได้เกรด F')"
      ],
      "metadata": {
        "id": "8SpnN4LShCR5",
        "outputId": "1d599619-3d7f-42b9-c527-3cb62abb2adf",
        "colab": {
          "base_uri": "https://localhost:8080/"
        }
      },
      "execution_count": null,
      "outputs": [
        {
          "output_type": "stream",
          "name": "stdout",
          "text": [
            "นางสาวเบญญาภา ระภูเขียว ได้เกรด A\n",
            "นางสาวทักษิณา ราชหุ่น ได้เกรด A\n",
            "นางสาวปลายฟ้า คำเพ็ง ได้เกรด F\n"
          ]
        }
      ]
    },
    {
      "cell_type": "markdown",
      "source": [
        "## operator ที่ใช้ตรวจสอบ condition\n",
        "\n",
        "==, !=, >=,<=, >, <, and, or"
      ],
      "metadata": {
        "id": "amVyMeujkgsQ"
      }
    },
    {
      "cell_type": "code",
      "source": [
        "a = 10 == 20    \n",
        "print(a)"
      ],
      "metadata": {
        "id": "X0y4gI1NkeQs",
        "outputId": "e324fa6c-c520-4ab0-bb57-d1ff53f8d50e",
        "colab": {
          "base_uri": "https://localhost:8080/"
        }
      },
      "execution_count": null,
      "outputs": [
        {
          "output_type": "stream",
          "name": "stdout",
          "text": [
            "False\n"
          ]
        }
      ]
    },
    {
      "cell_type": "code",
      "source": [
        "b = 15 <= 20    # 15 <= 20 True or False\n",
        "print(b)"
      ],
      "metadata": {
        "id": "udCzrj_wk3So",
        "outputId": "b45670c5-f3d0-4564-91d4-f5a9e5f2bc0f",
        "colab": {
          "base_uri": "https://localhost:8080/"
        }
      },
      "execution_count": null,
      "outputs": [
        {
          "output_type": "stream",
          "name": "stdout",
          "text": [
            "True\n"
          ]
        }
      ]
    },
    {
      "cell_type": "code",
      "source": [
        "if a:           # ถ้า a เป็น True print 'X'\n",
        "    print('X')"
      ],
      "metadata": {
        "id": "hGfr48FdlG0L"
      },
      "execution_count": null,
      "outputs": []
    },
    {
      "cell_type": "code",
      "source": [
        "if True:        # ถ้า True print 'X'\n",
        "    print('X')"
      ],
      "metadata": {
        "id": "eBf42UD-lK4U",
        "outputId": "7af38c3e-0edc-42e3-920b-d60412b10800",
        "colab": {
          "base_uri": "https://localhost:8080/"
        }
      },
      "execution_count": null,
      "outputs": [
        {
          "output_type": "stream",
          "name": "stdout",
          "text": [
            "X\n"
          ]
        }
      ]
    },
    {
      "cell_type": "code",
      "source": [
        "if b:       # ถ้า b เป็น True print 'X'\n",
        "    print('X')"
      ],
      "metadata": {
        "id": "j1n09E4PcjVA",
        "outputId": "5fe63c3b-422c-48a1-bae0-489e1088d649",
        "colab": {
          "base_uri": "https://localhost:8080/"
        }
      },
      "execution_count": null,
      "outputs": [
        {
          "output_type": "stream",
          "name": "stdout",
          "text": [
            "X\n"
          ]
        }
      ]
    },
    {
      "cell_type": "code",
      "source": [
        "if a and b:     # ถ้า a and b เป็น True print 'X'\n",
        "    print('X')"
      ],
      "metadata": {
        "id": "qQPdnAMulO2a"
      },
      "execution_count": null,
      "outputs": []
    },
    {
      "cell_type": "code",
      "source": [
        "if a or b:      # ถ้า a or b เป็น True print 'X'\n",
        "    print('X')"
      ],
      "metadata": {
        "id": "4r6a_PgLlVc3",
        "outputId": "d3e605e1-e37c-4459-dd48-e725b3aef625",
        "colab": {
          "base_uri": "https://localhost:8080/"
        }
      },
      "execution_count": null,
      "outputs": [
        {
          "output_type": "stream",
          "name": "stdout",
          "text": [
            "X\n"
          ]
        }
      ]
    },
    {
      "cell_type": "markdown",
      "source": [
        "# HW4\n",
        "เขียน functoin ตัดเกรด โดยที่ input เป็นคะแนน(0-100) , output เป็นเกรด (F-A) หรือ 'ไม่สามารถตัดเกรดได้'\n",
        "\n",
        "วนลูปตัดเกรด input = [1,50,65,90,101,-5,49,'ก',80]\n",
        "\n",
        "กำหนด\n",
        "\n",
        "- ถ้าคะแนนอยู่ระหว่างมากกว่าหรือเท่ากับ 0 แต่น้อยกว่า 50 จะได้เกรด F\n",
        "- ถ้าคะแนนอยู่ระหว่างมากกว่าหรือเท่ากับ 50 แต่น้อยกว่า 55 จะได้เกรด D\n",
        "- ถ้าคะแนนอยู่ระหว่างมากกว่าหรือเท่ากับ 55 แต่น้อยกว่า 60 จะได้เกรด D+\n",
        "- ถ้าคะแนนอยู่ระหว่างมากกว่าหรือเท่ากับ 60 แต่น้อยกว่า 65 จะได้เกรด C\n",
        "- ถ้าคะแนนอยู่ระหว่างมากกว่าหรือเท่ากับ 65 แต่น้อยกว่า 70 จะได้เกรด C+\n",
        "- ถ้าคะแนนอยู่ระหว่างมากกว่าหรือเท่ากับ 70 แต่น้อยกว่า 75 จะได้เกรด B\n",
        "- ถ้าคะแนนอยู่ระหว่างมากกว่าหรือเท่ากับ 75 แต่น้อยกว่า 80 จะได้เกรด B+\n",
        "- ถ้าคะแนนอยู่ระหว่างมากกว่าหรือเท่ากับ 80 จะได้เกรด A\n",
        "- ถ้าคะแนนไม่อยู่ในช่วง 0-100 ให้ return 'ไม่สามารถตัดเกรดได้'"
      ],
      "metadata": {
        "id": "H3bH4I9OltDA"
      }
    },
    {
      "cell_type": "code",
      "source": [
        "## แบบใส่ input ทีละตัว\n",
        "\n",
        "def cal_grade(x):\n",
        "    if type(x) == type(''):\n",
        "        print(f'คะแนน {x} ไม่สามารถตัดเกรดได้')\n",
        "    else:\n",
        "        if x >= 0 and x < 50:\n",
        "            print(f'คะแนน {x} จะได้เกรด F')\n",
        "        elif x >= 50 and x < 55:\n",
        "            print(f'คะแนน {x} จะได้เกรด D')\n",
        "        elif x >= 55 and x < 60:\n",
        "            print(f'คะแนน{x} จะได้เกรด D+')\n",
        "        elif x >= 60 and x < 65:\n",
        "            print(f'คะแนน {x} จะได้เกรด C')\n",
        "        elif x >= 65 and x < 70:\n",
        "            print(f'คะแนน {x} จะได้เกรด C+')\n",
        "        elif x >= 70 and x < 75:\n",
        "            print(f'คะแนน {x} จะได้เกรด B')\n",
        "        elif x >= 75 and x < 80:\n",
        "            print(f'คะแนน {x} จะได้เกรด B+')\n",
        "        elif x >= 80 and x <= 100:\n",
        "            print(f'คะแนน {x} จะได้เกรด A')\n",
        "        else:\n",
        "            print(f'คะแนน {x} ไม่สามารถตัดเกรดได้')"
      ],
      "metadata": {
        "id": "vOb5HeDSlhlo"
      },
      "execution_count": null,
      "outputs": []
    },
    {
      "cell_type": "code",
      "source": [
        "#input = [1,50,65,90,101,-5,49,'ก',80]\n",
        "cal_grade(1)"
      ],
      "metadata": {
        "id": "0nsq2WGiRFPh",
        "outputId": "3f40f134-4b41-45a0-a9de-a10e9b064c65",
        "colab": {
          "base_uri": "https://localhost:8080/"
        }
      },
      "execution_count": null,
      "outputs": [
        {
          "output_type": "stream",
          "name": "stdout",
          "text": [
            "คะแนน 1 จะได้เกรด F\n"
          ]
        }
      ]
    },
    {
      "cell_type": "code",
      "source": [
        "cal_grade(50)"
      ],
      "metadata": {
        "id": "XMobBH9GTqBz",
        "outputId": "53cd8f7a-40ba-4243-d061-1f0d0ecf1435",
        "colab": {
          "base_uri": "https://localhost:8080/"
        }
      },
      "execution_count": null,
      "outputs": [
        {
          "output_type": "stream",
          "name": "stdout",
          "text": [
            "คะแนน 50 จะได้เกรด D\n"
          ]
        }
      ]
    },
    {
      "cell_type": "code",
      "source": [
        "cal_grade(65)"
      ],
      "metadata": {
        "id": "98eeGwnCT8uX",
        "outputId": "2bc1d585-4211-49da-fa48-f380b1d32e21",
        "colab": {
          "base_uri": "https://localhost:8080/"
        }
      },
      "execution_count": null,
      "outputs": [
        {
          "output_type": "stream",
          "name": "stdout",
          "text": [
            "คะแนน 65 จะได้เกรด C+\n"
          ]
        }
      ]
    },
    {
      "cell_type": "code",
      "source": [
        "cal_grade(90)"
      ],
      "metadata": {
        "id": "LSYBxq4dUHL0",
        "outputId": "a647ce12-2249-4fc3-f373-7bdf3a6aa4c3",
        "colab": {
          "base_uri": "https://localhost:8080/"
        }
      },
      "execution_count": null,
      "outputs": [
        {
          "output_type": "stream",
          "name": "stdout",
          "text": [
            "คะแนน 90 จะได้เกรด A\n"
          ]
        }
      ]
    },
    {
      "cell_type": "code",
      "source": [
        "cal_grade(101)"
      ],
      "metadata": {
        "id": "B5ul0WS5U04A",
        "outputId": "3e33ddc8-8c77-4d56-ba02-38cbac775fa2",
        "colab": {
          "base_uri": "https://localhost:8080/"
        }
      },
      "execution_count": null,
      "outputs": [
        {
          "output_type": "stream",
          "name": "stdout",
          "text": [
            "คะแนน 101 ไม่สามารถตัดเกรดได้\n"
          ]
        }
      ]
    },
    {
      "cell_type": "code",
      "source": [
        "cal_grade(-5)"
      ],
      "metadata": {
        "id": "iF5V55bMU3px",
        "outputId": "df60d289-4af9-4e42-cfdb-4be95f5b2568",
        "colab": {
          "base_uri": "https://localhost:8080/"
        }
      },
      "execution_count": null,
      "outputs": [
        {
          "output_type": "stream",
          "name": "stdout",
          "text": [
            "คะแนน -5 ไม่สามารถตัดเกรดได้\n"
          ]
        }
      ]
    },
    {
      "cell_type": "code",
      "source": [
        "cal_grade(49)"
      ],
      "metadata": {
        "id": "hVaOAN03U8on",
        "outputId": "2c76fa1d-318d-4679-b43e-f25b892ad970",
        "colab": {
          "base_uri": "https://localhost:8080/"
        }
      },
      "execution_count": null,
      "outputs": [
        {
          "output_type": "stream",
          "name": "stdout",
          "text": [
            "คะแนน 49 จะได้เกรด F\n"
          ]
        }
      ]
    },
    {
      "cell_type": "code",
      "source": [
        "cal_grade('ก')"
      ],
      "metadata": {
        "id": "PjePDD-9VADd",
        "outputId": "7262cb19-10b6-4b01-c74f-b2b04ed5e29f",
        "colab": {
          "base_uri": "https://localhost:8080/"
        }
      },
      "execution_count": null,
      "outputs": [
        {
          "output_type": "stream",
          "name": "stdout",
          "text": [
            "คะแนน ก ไม่สามารถตัดเกรดได้\n"
          ]
        }
      ]
    },
    {
      "cell_type": "code",
      "source": [
        "cal_grade(80)"
      ],
      "metadata": {
        "id": "zTeIS3gZVFB1",
        "outputId": "09d80bea-cdc1-4221-908d-c93679765787",
        "colab": {
          "base_uri": "https://localhost:8080/"
        }
      },
      "execution_count": null,
      "outputs": [
        {
          "output_type": "stream",
          "name": "stdout",
          "text": [
            "คะแนน 80 จะได้เกรด A\n"
          ]
        }
      ]
    },
    {
      "cell_type": "code",
      "source": [
        ""
      ],
      "metadata": {
        "id": "d1sE-_3_baNZ"
      },
      "execution_count": null,
      "outputs": []
    }
  ]
}